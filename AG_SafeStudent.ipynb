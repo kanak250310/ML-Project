{
 "cells": [
  {
   "cell_type": "code",
   "execution_count": 8,
   "id": "c9a4dce2",
   "metadata": {},
   "outputs": [
    {
     "name": "stderr",
     "output_type": "stream",
     "text": [
      "C:\\Users\\OMEN\\AppData\\Local\\Programs\\Python\\Python313\\Lib\\site-packages\\tqdm\\auto.py:21: TqdmWarning: IProgress not found. Please update jupyter and ipywidgets. See https://ipywidgets.readthedocs.io/en/stable/user_install.html\n",
      "  from .autonotebook import tqdm as notebook_tqdm\n"
     ]
    },
    {
     "name": "stdout",
     "output_type": "stream",
     "text": [
      "Using device: cuda\n",
      "Train: (120000, 2) | Test: (7600, 2)\n",
      "Vocabulary saved with 158735 words\n"
     ]
    }
   ],
   "source": [
    "import torch\n",
    "import torch.nn as nn\n",
    "import torch.optim as optim\n",
    "import torch.nn.functional as F\n",
    "from torch.utils.data import Dataset, DataLoader\n",
    "from datasets import load_dataset\n",
    "from sklearn.metrics import accuracy_score\n",
    "import pandas as pd\n",
    "import numpy as np\n",
    "import random\n",
    "from collections import Counter\n",
    "from torch.nn.utils.rnn import pad_sequence\n",
    "seed = 42\n",
    "torch.manual_seed(seed)\n",
    "np.random.seed(seed)\n",
    "random.seed(seed)\n",
    "\n",
    "device = torch.device(\"cuda\" if torch.cuda.is_available() else \"cpu\")\n",
    "print(f\"Using device: {device}\")\n",
    "# Part 2 (original)\n",
    "dataset = load_dataset('ag_news')\n",
    "train_df = pd.DataFrame(dataset['train'])\n",
    "test_df = pd.DataFrame(dataset['test'])\n",
    "\n",
    "print(\"Train:\", train_df.shape, \"| Test:\", test_df.shape)\n",
    "\n",
    "def tokenize(text):\n",
    "    return text.lower().split()\n",
    "\n",
    "counter = Counter()\n",
    "for text in train_df['text']:\n",
    "    counter.update(tokenize(text))\n",
    "\n",
    "vocab = {word: idx + 2 for idx, (word, _) in enumerate(counter.items())}\n",
    "vocab[\"<pad>\"] = 0\n",
    "vocab[\"<unk>\"] = 1\n",
    "\n",
    "# NEW CODE TO ADD HERE\n",
    "import pickle\n",
    "with open('ag_news_vocab.pkl', 'wb') as f:\n",
    "    pickle.dump(vocab, f)\n",
    "print(f\"Vocabulary saved with {len(vocab)} words\")\n",
    "# END OF NEW CODE\n",
    "\n",
    "def text_pipeline(text):\n",
    "    return [vocab.get(tok, vocab[\"<unk>\"]) for tok in tokenize(text)]\n",
    "\n",
    "def label_pipeline(label):\n",
    "    return label"
   ]
  },
  {
   "cell_type": "code",
   "execution_count": 3,
   "id": "01bf0082",
   "metadata": {},
   "outputs": [],
   "source": [
    "class AGNewsDataset(Dataset):\n",
    "    def __init__(self, df):\n",
    "        self.texts = df['text'].tolist()\n",
    "        self.labels = df['label'].tolist()\n",
    "\n",
    "    def __len__(self):\n",
    "        return len(self.labels)\n",
    "\n",
    "    def __getitem__(self, idx):\n",
    "        text = torch.tensor(text_pipeline(self.texts[idx]), dtype=torch.long)\n",
    "        label = torch.tensor(label_pipeline(self.labels[idx]), dtype=torch.long)\n",
    "        return text, label\n",
    "\n",
    "def collate_batch(batch):\n",
    "    texts, labels = zip(*batch)\n",
    "    texts = pad_sequence(texts, batch_first=True, padding_value=vocab[\"<pad>\"])\n",
    "    return texts.to(device), torch.tensor(labels, dtype=torch.long).to(device)\n",
    "\n",
    "train_loader = DataLoader(AGNewsDataset(train_df), batch_size=64, shuffle=True, collate_fn=collate_batch)\n",
    "test_loader = DataLoader(AGNewsDataset(test_df), batch_size=64, collate_fn=collate_batch)"
   ]
  },
  {
   "cell_type": "code",
   "execution_count": 4,
   "id": "fce008c3",
   "metadata": {},
   "outputs": [],
   "source": [
    "class TextClassifier(nn.Module):\n",
    "    def __init__(self, vocab_size, embed_dim, num_classes):\n",
    "        super().__init__()\n",
    "        self.embedding = nn.Embedding(vocab_size, embed_dim, padding_idx=vocab[\"<pad>\"])\n",
    "        self.fc = nn.Linear(embed_dim, num_classes)\n",
    "\n",
    "    def forward(self, x):\n",
    "        emb = self.embedding(x)\n",
    "        pooled = emb.mean(dim=1)\n",
    "        return self.fc(pooled)\n"
   ]
  },
  {
   "cell_type": "code",
   "execution_count": 5,
   "id": "6c5e2f5b",
   "metadata": {},
   "outputs": [],
   "source": [
    "def train_one_epoch(model, loader, optimizer, criterion):\n",
    "    model.train()\n",
    "    total_loss, all_preds, all_labels = 0, [], []\n",
    "\n",
    "    for x, y in loader:\n",
    "        optimizer.zero_grad()\n",
    "        logits = model(x)\n",
    "        loss = criterion(logits, y)\n",
    "        loss.backward()\n",
    "        optimizer.step()\n",
    "\n",
    "        total_loss += loss.item() * y.size(0)\n",
    "        all_preds.extend(logits.argmax(1).tolist())\n",
    "        all_labels.extend(y.tolist())\n",
    "\n",
    "    return total_loss / len(loader.dataset), accuracy_score(all_labels, all_preds)\n",
    "\n",
    "def evaluate(model, loader, criterion):\n",
    "    model.eval()\n",
    "    total_loss, all_preds, all_labels = 0, [], []\n",
    "\n",
    "    with torch.no_grad():\n",
    "        for x, y in loader:\n",
    "            logits = model(x)\n",
    "            loss = criterion(logits, y)\n",
    "            total_loss += loss.item() * y.size(0)\n",
    "            all_preds.extend(logits.argmax(1).tolist())\n",
    "            all_labels.extend(y.tolist())\n",
    "\n",
    "    return total_loss / len(loader.dataset), accuracy_score(all_labels, all_preds)"
   ]
  },
  {
   "cell_type": "code",
   "execution_count": 8,
   "id": "79352b81",
   "metadata": {},
   "outputs": [
    {
     "name": "stdout",
     "output_type": "stream",
     "text": [
      "[Epoch 1] Train Acc: 0.8093 | Val Acc: 0.8911\n",
      "[Epoch 2] Train Acc: 0.9157 | Val Acc: 0.9057\n",
      "[Epoch 3] Train Acc: 0.9363 | Val Acc: 0.9130\n",
      "[Epoch 4] Train Acc: 0.9507 | Val Acc: 0.9141\n",
      "[Epoch 5] Train Acc: 0.9610 | Val Acc: 0.9149\n",
      "[Epoch 6] Train Acc: 0.9697 | Val Acc: 0.9166\n",
      "[Epoch 7] Train Acc: 0.9758 | Val Acc: 0.9136\n",
      "[Epoch 8] Train Acc: 0.9812 | Val Acc: 0.9134\n",
      "[Epoch 9] Train Acc: 0.9853 | Val Acc: 0.9111\n",
      "[Epoch 10] Train Acc: 0.9885 | Val Acc: 0.9105\n"
     ]
    }
   ],
   "source": [
    "teacher = TextClassifier(len(vocab), embed_dim=128, num_classes=4).to(device)\n",
    "opt_teacher = optim.Adam(teacher.parameters(), lr=1e-3)\n",
    "loss_fn = nn.CrossEntropyLoss()\n",
    "\n",
    "for epoch in range(10):\n",
    "    train_loss, train_acc = train_one_epoch(teacher, train_loader, opt_teacher, loss_fn)\n",
    "    val_loss, val_acc = evaluate(teacher, test_loader, loss_fn)\n",
    "    print(f\"[Epoch {epoch+1}] Train Acc: {train_acc:.4f} | Val Acc: {val_acc:.4f}\")"
   ]
  },
  {
   "cell_type": "code",
   "execution_count": 9,
   "id": "5858f577",
   "metadata": {},
   "outputs": [],
   "source": [
    "def get_soft_labels(model, loader, temp=3.0):\n",
    "    model.eval()\n",
    "    soft_outputs = []\n",
    "\n",
    "    with torch.no_grad():\n",
    "        for x, _ in loader:\n",
    "            logits = model(x)\n",
    "            softened = F.log_softmax(logits / temp, dim=1)\n",
    "            soft_outputs.append(softened)\n",
    "\n",
    "    return torch.cat(soft_outputs, dim=0)\n",
    "\n",
    "soft_labels = get_soft_labels(teacher, train_loader)"
   ]
  },
  {
   "cell_type": "code",
   "execution_count": 11,
   "id": "74864682",
   "metadata": {},
   "outputs": [
    {
     "name": "stdout",
     "output_type": "stream",
     "text": [
      "[Epoch 1] Train Acc: 0.7637 | Val Acc: 0.8693\n",
      "[Epoch 2] Train Acc: 0.8952 | Val Acc: 0.8891\n",
      "[Epoch 3] Train Acc: 0.9171 | Val Acc: 0.8997\n",
      "[Epoch 4] Train Acc: 0.9289 | Val Acc: 0.9058\n",
      "[Epoch 5] Train Acc: 0.9372 | Val Acc: 0.9101\n",
      "[Epoch 6] Train Acc: 0.9436 | Val Acc: 0.9104\n",
      "[Epoch 7] Train Acc: 0.9492 | Val Acc: 0.9134\n",
      "[Epoch 8] Train Acc: 0.9538 | Val Acc: 0.9142\n",
      "[Epoch 9] Train Acc: 0.9581 | Val Acc: 0.9141\n",
      "[Epoch 10] Train Acc: 0.9611 | Val Acc: 0.9149\n"
     ]
    }
   ],
   "source": [
    "student = TextClassifier(len(vocab), embed_dim=64, num_classes=4).to(device)\n",
    "opt_student = optim.Adam(student.parameters(), lr=1e-3)\n",
    "kl_div = nn.KLDivLoss(reduction=\"batchmean\")\n",
    "T = 3.0\n",
    "alpha = 0.7\n",
    "\n",
    "def train_student_kd(model, loader, soft_logits):\n",
    "    model.train()\n",
    "    all_preds, all_labels = [], []\n",
    "    total_loss = 0\n",
    "    idx = 0\n",
    "\n",
    "    for x, y in loader:\n",
    "        opt_student.zero_grad()\n",
    "        out = model(x)\n",
    "\n",
    "        soft = soft_logits[idx:idx + y.size(0)]\n",
    "        idx += y.size(0)\n",
    "\n",
    "        loss = alpha * kl_div(F.log_softmax(out / T, dim=1), soft.exp()) + (1 - alpha) * loss_fn(out, y)\n",
    "        loss.backward()\n",
    "        opt_student.step()\n",
    "\n",
    "        total_loss += loss.item() * y.size(0)\n",
    "        all_preds.extend(out.argmax(1).tolist())\n",
    "        all_labels.extend(y.tolist())\n",
    "\n",
    "    return total_loss / len(loader.dataset), accuracy_score(all_labels, all_preds)\n",
    "\n",
    "for epoch in range(10):\n",
    "    train_loss, train_acc = train_student_kd(student, train_loader, soft_labels)\n",
    "    val_loss, val_acc = evaluate(student, test_loader, loss_fn)\n",
    "    print(f\"[Epoch {epoch+1}] Train Acc: {train_acc:.4f} | Val Acc: {val_acc:.4f}\")"
   ]
  },
  {
   "cell_type": "code",
   "execution_count": 12,
   "id": "198689fd",
   "metadata": {},
   "outputs": [],
   "source": [
    "torch.save(student.state_dict(), \"AG_SafeStudent.pt\")\n"
   ]
  },
  {
   "cell_type": "code",
   "execution_count": 13,
   "id": "dda163d2",
   "metadata": {},
   "outputs": [
    {
     "name": "stdout",
     "output_type": "stream",
     "text": [
      "\n",
      "Classification Report for Student Model:\n",
      "              precision    recall  f1-score   support\n",
      "\n",
      "       World       0.92      0.91      0.92      1900\n",
      "      Sports       0.96      0.98      0.97      1900\n",
      "    Business       0.90      0.86      0.88      1900\n",
      "    Sci/Tech       0.88      0.90      0.89      1900\n",
      "\n",
      "    accuracy                           0.91      7600\n",
      "   macro avg       0.91      0.91      0.91      7600\n",
      "weighted avg       0.91      0.91      0.91      7600\n",
      "\n"
     ]
    }
   ],
   "source": [
    "from sklearn.metrics import classification_report\n",
    "\n",
    "# Evaluate on test set\n",
    "student.eval()\n",
    "all_preds, all_labels = [], []\n",
    "\n",
    "with torch.no_grad():\n",
    "    for x, y in test_loader:\n",
    "        logits = student(x)\n",
    "        preds = logits.argmax(dim=1)\n",
    "        all_preds.extend(preds.cpu().numpy())\n",
    "        all_labels.extend(y.cpu().numpy())\n",
    "\n",
    "# Classification Report\n",
    "target_names = ['World', 'Sports', 'Business', 'Sci/Tech']\n",
    "print(\"\\nClassification Report for Student Model:\")\n",
    "print(classification_report(all_labels, all_preds, target_names=target_names))\n"
   ]
  }
 ],
 "metadata": {
  "kernelspec": {
   "display_name": "Python 3 (ipykernel)",
   "language": "python",
   "name": "python3"
  },
  "language_info": {
   "codemirror_mode": {
    "name": "ipython",
    "version": 3
   },
   "file_extension": ".py",
   "mimetype": "text/x-python",
   "name": "python",
   "nbconvert_exporter": "python",
   "pygments_lexer": "ipython3",
   "version": "3.13.2"
  }
 },
 "nbformat": 4,
 "nbformat_minor": 5
}
